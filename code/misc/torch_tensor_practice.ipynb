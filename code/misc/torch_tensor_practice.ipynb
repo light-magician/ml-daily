{
 "cells": [
  {
   "cell_type": "code",
   "execution_count": 1,
   "id": "3a0867b9",
   "metadata": {},
   "outputs": [],
   "source": [
    "%capture"
   ]
  },
  {
   "cell_type": "code",
   "execution_count": 2,
   "id": "1852fb8e",
   "metadata": {},
   "outputs": [],
   "source": [
    "%%capture\n",
    "import torch \n",
    "from torch.utils.data import DataLoader\n",
    "from torchvision import datasets \n",
    "from torchvision.transforms import transforms"
   ]
  },
  {
   "cell_type": "code",
   "execution_count": 3,
   "id": "3086e4a9",
   "metadata": {},
   "outputs": [],
   "source": [
    "clear"
   ]
  },
  {
   "cell_type": "code",
   "execution_count": 4,
   "id": "2e24a60d",
   "metadata": {},
   "outputs": [],
   "source": [
    "import numpy as np"
   ]
  },
  {
   "cell_type": "code",
   "execution_count": 5,
   "id": "0349c684",
   "metadata": {},
   "outputs": [],
   "source": [
    "data = [[1, 2], [3,4]]"
   ]
  },
  {
   "cell_type": "code",
   "execution_count": 6,
   "id": "0d0a61ec",
   "metadata": {},
   "outputs": [],
   "source": [
    "%config IPCompleter"
   ]
  },
  {
   "cell_type": "code",
   "execution_count": 7,
   "id": "4cd4e2b6",
   "metadata": {},
   "outputs": [],
   "source": [
    "clear"
   ]
  },
  {
   "cell_type": "code",
   "execution_count": 8,
   "id": "764aa27b",
   "metadata": {},
   "outputs": [],
   "source": [
    "data = [[1, 2], [3,4]]"
   ]
  },
  {
   "cell_type": "code",
   "execution_count": 9,
   "id": "032e6e44",
   "metadata": {},
   "outputs": [],
   "source": [
    "x_data = torch.tensor(data)"
   ]
  },
  {
   "cell_type": "code",
   "execution_count": 10,
   "id": "d993dd8f",
   "metadata": {},
   "outputs": [],
   "source": [
    "np_array = np.array(data)"
   ]
  },
  {
   "cell_type": "code",
   "execution_count": 11,
   "id": "97c0e17c",
   "metadata": {},
   "outputs": [],
   "source": [
    "data"
   ]
  },
  {
   "cell_type": "code",
   "execution_count": 12,
   "id": "35988b0c",
   "metadata": {},
   "outputs": [],
   "source": [
    "x_data"
   ]
  },
  {
   "cell_type": "code",
   "execution_count": 13,
   "id": "ba16ce9e",
   "metadata": {},
   "outputs": [],
   "source": [
    "np_array"
   ]
  },
  {
   "cell_type": "code",
   "execution_count": 14,
   "id": "b25b7973",
   "metadata": {},
   "outputs": [],
   "source": [
    "# a new tensor retains the properties (shape, datatype) of an arg tensor"
   ]
  },
  {
   "cell_type": "code",
   "execution_count": 15,
   "id": "9b8f41fc",
   "metadata": {},
   "outputs": [],
   "source": [
    "x_ones = torch.ones_like(x_data) # retains the properties of x_data"
   ]
  },
  {
   "cell_type": "code",
   "execution_count": 16,
   "id": "46690735",
   "metadata": {},
   "outputs": [],
   "source": [
    "x_rand = torch.rand_like(x_data, dtype=torch.float)"
   ]
  },
  {
   "cell_type": "code",
   "execution_count": 17,
   "id": "994d401c",
   "metadata": {},
   "outputs": [],
   "source": [
    "%%capture\n",
    "print(f\"ones tensor: {x_ones}\")\n",
    "print(f\"rand tensor: {x_rand}\")"
   ]
  },
  {
   "cell_type": "code",
   "execution_count": 18,
   "id": "3dd50aa8",
   "metadata": {},
   "outputs": [],
   "source": [
    "%run 17"
   ]
  },
  {
   "cell_type": "code",
   "execution_count": 19,
   "id": "af94f087",
   "metadata": {},
   "outputs": [],
   "source": [
    "clear"
   ]
  },
  {
   "cell_type": "code",
   "execution_count": 20,
   "id": "6864e598",
   "metadata": {},
   "outputs": [],
   "source": [
    "%%capture printed_dims\n",
    "print(f\"ones tensor: {x_ones}\")\n",
    "print(f\"rand tensor: {x_rand}\")"
   ]
  },
  {
   "cell_type": "code",
   "execution_count": 21,
   "id": "a6e1aa3f",
   "metadata": {},
   "outputs": [],
   "source": [
    "printed_dims"
   ]
  },
  {
   "cell_type": "code",
   "execution_count": 22,
   "id": "c7638b93",
   "metadata": {},
   "outputs": [],
   "source": [
    "print(printed_dims.stdout)"
   ]
  },
  {
   "cell_type": "code",
   "execution_count": 23,
   "id": "5a7c6551",
   "metadata": {},
   "outputs": [],
   "source": [
    "%%capture\n",
    "shape = (2, 3,)\n",
    "rand_tensor = torch.rand(shape)\n",
    "ones_tensor = torch.ones(shape)\n",
    "zeros_tensor = torch.zeros(shape)\n",
    "print(f\"rand tensor: {x_rand}\")\n",
    "print(f\"ones tensor: {x_ones}\")\n",
    "print(f\"zeros tensor {zeros_tensor}\")"
   ]
  },
  {
   "cell_type": "code",
   "execution_count": 24,
   "id": "129ce52e",
   "metadata": {},
   "outputs": [],
   "source": [
    "%%capture shape_str\n",
    "shape = (2, 3,)\n",
    "rand_tensor = torch.rand(shape)\n",
    "ones_tensor = torch.ones(shape)\n",
    "zeros_tensor = torch.zeros(shape)\n",
    "print(f\"rand tensor: {x_rand}\")\n",
    "print(f\"ones tensor: {x_ones}\")\n",
    "print(f\"zeros tensor {zeros_tensor}\")"
   ]
  },
  {
   "cell_type": "code",
   "execution_count": 25,
   "id": "a0baee39",
   "metadata": {},
   "outputs": [],
   "source": [
    "print(shape_str.stdout)"
   ]
  },
  {
   "cell_type": "code",
   "execution_count": 26,
   "id": "7b321874",
   "metadata": {},
   "outputs": [],
   "source": [
    "# attributes of a tensor, describe their shape, datatype, and the device on which stored"
   ]
  },
  {
   "cell_type": "code",
   "execution_count": 27,
   "id": "04f6889f",
   "metadata": {},
   "outputs": [],
   "source": [
    "tensor.rand(3, 4)"
   ]
  },
  {
   "cell_type": "code",
   "execution_count": 28,
   "id": "e3c66f93",
   "metadata": {},
   "outputs": [],
   "source": [
    "tensor = torch.rand(3, 4)"
   ]
  },
  {
   "cell_type": "code",
   "execution_count": 29,
   "id": "096d17f4",
   "metadata": {},
   "outputs": [],
   "source": [
    "clear"
   ]
  },
  {
   "cell_type": "code",
   "execution_count": 30,
   "id": "79f81761",
   "metadata": {},
   "outputs": [],
   "source": [
    "print(f\"shape  of tensor: {tensor.shape}\")"
   ]
  },
  {
   "cell_type": "code",
   "execution_count": 31,
   "id": "d367b972",
   "metadata": {},
   "outputs": [],
   "source": [
    "print(f\"datatype of tensor: {tensor.dtype}\")"
   ]
  },
  {
   "cell_type": "code",
   "execution_count": 32,
   "id": "405e75c6",
   "metadata": {},
   "outputs": [],
   "source": [
    "print(f\"device of tensor: {tensor.device})"
   ]
  },
  {
   "cell_type": "code",
   "execution_count": 33,
   "id": "d8eee95f",
   "metadata": {},
   "outputs": [],
   "source": [
    "print(f\"device of tensor: {tensor.device}\")"
   ]
  },
  {
   "cell_type": "code",
   "execution_count": 34,
   "id": "3db24168",
   "metadata": {},
   "outputs": [],
   "source": [
    "# operations on tensors"
   ]
  },
  {
   "cell_type": "code",
   "execution_count": 35,
   "id": "15de816a",
   "metadata": {},
   "outputs": [],
   "source": [
    "%%capture\n",
    "# arithmatic, linear alg, matrix manipulation\n",
    "# each can be run on CPU or accelerator CUDA MPS MTIA XPU\n",
    "# by default tensors are created on the CPU\n",
    "# tensors need to be explicitely moved to the accelerator\n",
    "#  by using `.to`\n",
    "\n",
    " "
   ]
  },
  {
   "cell_type": "code",
   "execution_count": 36,
   "id": "4696e89c",
   "metadata": {},
   "outputs": [],
   "source": [
    "if torch.accelerator.is_available():\n",
    "    tensor = tensor.to(torch.accelerator.current_accelerator())\n",
    "    "
   ]
  },
  {
   "cell_type": "code",
   "execution_count": 37,
   "id": "bd0f2b31",
   "metadata": {},
   "outputs": [],
   "source": [
    "import torch"
   ]
  },
  {
   "cell_type": "code",
   "execution_count": 38,
   "id": "64a27da2",
   "metadata": {},
   "outputs": [],
   "source": [
    "def get_available_accelerator():\n",
    "    if  torch.backends.mps.is_available():\n",
    "        return torch.device(\"mps\")\n",
    "    else:\n",
    "        return torch.device(\"cpu\")\n",
    "device = get_available_accelerator()"
   ]
  },
  {
   "cell_type": "code",
   "execution_count": 39,
   "id": "3f702580",
   "metadata": {},
   "outputs": [],
   "source": [
    "print(device)"
   ]
  },
  {
   "cell_type": "code",
   "execution_count": 40,
   "id": "a8e5dcf1",
   "metadata": {},
   "outputs": [],
   "source": [
    "# numpy like indexing and slicing"
   ]
  },
  {
   "cell_type": "code",
   "execution_count": 41,
   "id": "60bfb197",
   "metadata": {},
   "outputs": [],
   "source": [
    "%%capture np_like\n",
    "tensor = torch.ones(4, 4)\n",
    "tensor[0]\n",
    "tensor[:, 0]\n",
    "tensor[..., -1]\n",
    "tensor[:, 1] = 0\n",
    "print(tensor)"
   ]
  },
  {
   "cell_type": "code",
   "execution_count": 42,
   "id": "48ca0685",
   "metadata": {},
   "outputs": [],
   "source": [
    "print(np_like.stdout)"
   ]
  },
  {
   "cell_type": "code",
   "execution_count": 43,
   "id": "56fedbe1",
   "metadata": {},
   "outputs": [],
   "source": [
    "# torch.cat can concatenate a sequence of tensors"
   ]
  },
  {
   "cell_type": "code",
   "execution_count": 44,
   "id": "0f41b2a3",
   "metadata": {},
   "outputs": [],
   "source": [
    "torch.cat([tensor, tensor, tensor], dim=1)"
   ]
  },
  {
   "cell_type": "code",
   "execution_count": 45,
   "id": "b927ac0d",
   "metadata": {},
   "outputs": [],
   "source": [
    "clear"
   ]
  },
  {
   "cell_type": "code",
   "execution_count": 46,
   "id": "c7d88410",
   "metadata": {},
   "outputs": [],
   "source": [
    "# matrix multiplication"
   ]
  },
  {
   "cell_type": "code",
   "execution_count": 47,
   "id": "5bdd7eb0",
   "metadata": {},
   "outputs": [],
   "source": [
    "y1 = tensor @ tensor.T"
   ]
  },
  {
   "cell_type": "code",
   "execution_count": 48,
   "id": "41828206",
   "metadata": {},
   "outputs": [],
   "source": [
    "y2 = tensor.matmul(tensor.T)"
   ]
  },
  {
   "cell_type": "code",
   "execution_count": 49,
   "id": "25a9a46b",
   "metadata": {},
   "outputs": [],
   "source": [
    "y3 = torch.rand_like(y1) # dimension copy"
   ]
  },
  {
   "cell_type": "code",
   "execution_count": 50,
   "id": "0b5af776",
   "metadata": {},
   "outputs": [],
   "source": [
    "torch.matmul(tensor, tensor.T, out=y3)"
   ]
  },
  {
   "cell_type": "code",
   "execution_count": 51,
   "id": "4932b3a6",
   "metadata": {},
   "outputs": [],
   "source": [
    "# tensor T reutrns the Transpose of a tensor"
   ]
  },
  {
   "cell_type": "code",
   "execution_count": 52,
   "id": "42706780",
   "metadata": {},
   "outputs": [],
   "source": [
    "%%capture \n",
    "z1 = tensor * tensor\n",
    "z2 = tensor.mul(tensor)\n",
    "z3 = torch.rand_like(tensor)"
   ]
  },
  {
   "cell_type": "code",
   "execution_count": 53,
   "id": "1082fa53",
   "metadata": {},
   "outputs": [],
   "source": [
    "torch.mul(tensor, tensor, out=z3)"
   ]
  },
  {
   "cell_type": "code",
   "execution_count": 54,
   "id": "486e9089",
   "metadata": {},
   "outputs": [],
   "source": [
    "# in place operations, store result in operand, denoteated by _ suffix"
   ]
  },
  {
   "cell_type": "code",
   "execution_count": 55,
   "id": "b5e72a14",
   "metadata": {},
   "outputs": [],
   "source": [
    "print(tensor)"
   ]
  },
  {
   "cell_type": "code",
   "execution_count": 56,
   "id": "f1dafdb5",
   "metadata": {},
   "outputs": [],
   "source": [
    "tensor.add_(5)"
   ]
  },
  {
   "cell_type": "code",
   "execution_count": 57,
   "id": "162c66d3",
   "metadata": {},
   "outputs": [],
   "source": [
    "# saving this session after tensor practice"
   ]
  }
 ],
 "metadata": {},
 "nbformat": 4,
 "nbformat_minor": 5
}
